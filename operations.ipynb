{
 "cells": [
  {
   "cell_type": "markdown",
   "id": "654f2916",
   "metadata": {},
   "source": [
    "# Basic Operations"
   ]
  },
  {
   "cell_type": "markdown",
   "id": "393b3337",
   "metadata": {},
   "source": [
    "## Arithmetic Operations"
   ]
  },
  {
   "cell_type": "markdown",
   "id": "62b1c686",
   "metadata": {},
   "source": [
    "### Addition, subtraction, multipication:"
   ]
  },
  {
   "cell_type": "code",
   "execution_count": null,
   "id": "221f89b5",
   "metadata": {},
   "outputs": [],
   "source": [
    "# Addition\n",
    "result = 5 + 3\n",
    "total = 10 + 7 + 3\n",
    "print(\"Addition Result:\", result)\n",
    "print(\"Total Addition Result:\", total)"
   ]
  },
  {
   "cell_type": "code",
   "execution_count": null,
   "id": "7dda4f1e",
   "metadata": {},
   "outputs": [],
   "source": [
    "# Subtraction\n",
    "difference = 66 - 53 \n",
    "change = 100 - 10\n",
    "print(\"Difference:\", difference)\n",
    "print(\"Change:\", change)\n"
   ]
  },
  {
   "cell_type": "code",
   "execution_count": null,
   "id": "80b93d09",
   "metadata": {},
   "outputs": [],
   "source": [
    "# Multiplication\n",
    "product = 10 * 40\n",
    "area = 5 * 8\n",
    "print(\"Product:\", product)\n",
    "print(\"Area:\", area)"
   ]
  },
  {
   "cell_type": "markdown",
   "id": "4e621817",
   "metadata": {},
   "source": [
    "### Integer Division and Modulo"
   ]
  },
  {
   "cell_type": "code",
   "execution_count": null,
   "id": "22d256f5",
   "metadata": {},
   "outputs": [],
   "source": [
    "# Division\n",
    "a = 17 / 5   # Gives a decimal result\n",
    "b = 17 // 5  # Gives an integer result (floor division)\n",
    "print(\"Decimal Division Result:\", a)\n",
    "print(\"Integer (Floor) Division Result:\", b)\n",
    "\n",
    "# Modulo - gives you the remainder of a division\n",
    "remainder = 17 % 5\n",
    "print(\"Remainder of 17 divided by 5:\", remainder)\n"
   ]
  },
  {
   "cell_type": "markdown",
   "id": "339573bc",
   "metadata": {},
   "source": [
    "### Exponents (Powers)"
   ]
  },
  {
   "cell_type": "code",
   "execution_count": null,
   "id": "51a2b756",
   "metadata": {},
   "outputs": [],
   "source": [
    "squared = 5 ** 2 # 5 to the power of 2\n",
    "cubed = 2 ** 3   # 2 to the power of 3\n",
    "print(\"5 squared:\", squared)\n",
    "print(\"2 cubed:\", cubed)"
   ]
  },
  {
   "cell_type": "markdown",
   "id": "dbe33fe2",
   "metadata": {},
   "source": [
    "**Order of Operations:** Python follows the same order you learned in math class (PEMDAS)\n",
    "- P - Parentheses\n",
    "- E - Exponents\n",
    "- M - Multipcation\n",
    "- D - Division\n",
    "- A - Addition\n",
    "- S - Subtraction"
   ]
  },
  {
   "cell_type": "markdown",
   "id": "ee5e1896",
   "metadata": {},
   "source": [
    "## String Operations and Methods"
   ]
  },
  {
   "cell_type": "markdown",
   "id": "4ab96d5d",
   "metadata": {},
   "source": [
    "### Concatenation (combining strings)"
   ]
  },
  {
   "cell_type": "code",
   "execution_count": null,
   "id": "a70f0423",
   "metadata": {},
   "outputs": [],
   "source": [
    "firstName = \"Wildcat\"\n",
    "lastName = \"Willy\"\n",
    "fullName = firstName + \" \" + lastName\n",
    "print(\"Full Name:\", fullName)"
   ]
  },
  {
   "cell_type": "markdown",
   "id": "62682110",
   "metadata": {},
   "source": [
    "### Repeating strings: Use of the * operator to repeat a string multiple times."
   ]
  },
  {
   "cell_type": "markdown",
   "id": "374c0777",
   "metadata": {},
   "source": []
  },
  {
   "cell_type": "code",
   "execution_count": null,
   "id": "e6d192de",
   "metadata": {},
   "outputs": [],
   "source": [
    "song = \"The wheels of the bus go round and round, \" *3\n",
    "print(\"Repeated Song Line:\", song)\n"
   ]
  },
  {
   "cell_type": "markdown",
   "id": "6a017d78",
   "metadata": {},
   "source": [
    "## Useful String Methods\n",
    "\n",
    "Python strings come with built-in methods (functions) that make working with text easier.\n",
    "Here are the most important ones:"
   ]
  },
  {
   "cell_type": "markdown",
   "id": "ab4415cf",
   "metadata": {},
   "source": [
    "### Checking string length: Use `len()` to count how many characters are in a string.\n",
    "### Slicing parts of a string"
   ]
  },
  {
   "cell_type": "code",
   "execution_count": null,
   "id": "1a6f9d09",
   "metadata": {},
   "outputs": [],
   "source": [
    "# Using the len() function to find the length of a string\n",
    "word = \"supercalifragilisticexpialidocious\"\n",
    "print(\"Length of the word:\", len(word)) \n",
    "# Note the we can nest functions inside of other function calls. The inner function is executed first, and its result is passed to the outer function.   \n",
    "\n",
    "# Slicing a string to get a part of it\n",
    "print(\"First 5 characters of the word:\", word[:5])  # Gets the first 5 characters\n",
    "print(\"Last 5 characters of the word:\", word[-14:])  # Gets the last 5 characters\n",
    "print(\"Characters from index 5 to 10:\", word[9:20])  # Gets characters from index 5 to 9\n"
   ]
  },
  {
   "cell_type": "markdown",
   "id": "01de40d9",
   "metadata": {},
   "source": [
    "### Modifying strings"
   ]
  },
  {
   "cell_type": "code",
   "execution_count": null,
   "id": "a080a5a3",
   "metadata": {},
   "outputs": [],
   "source": [
    "# Changing case\n",
    "text = \"Hello, World!\"\n",
    "print(\"Uppercase:\", text.upper())  # Converts to uppercase\n",
    "print(\"Lowercase:\", text.lower())  # Converts to lowercase\n",
    "\n",
    "# Removing spaces\n",
    "textWithSpaces = \"   Hello, World!   \"\n",
    "print(\"Text with spaces removed:\", textWithSpaces.strip())  # Removes leading and trailing spaces\n",
    "\n",
    "# Finding and replacing text\n",
    "cheer = \"Go Huskies!\"\n",
    "print(cheer.replace(\"Huskies\", \"Wildcats\"))  # Replaces \"Huskies\" with \"Wildcats\""
   ]
  }
 ],
 "metadata": {
  "kernelspec": {
   "display_name": "base",
   "language": "python",
   "name": "python3"
  },
  "language_info": {
   "codemirror_mode": {
    "name": "ipython",
    "version": 3
   },
   "file_extension": ".py",
   "mimetype": "text/x-python",
   "name": "python",
   "nbconvert_exporter": "python",
   "pygments_lexer": "ipython3",
   "version": "3.12.7"
  }
 },
 "nbformat": 4,
 "nbformat_minor": 5
}
