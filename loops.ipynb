{
 "cells": [
  {
   "cell_type": "markdown",
   "id": "09dab38b",
   "metadata": {},
   "source": [
    "# Loops"
   ]
  },
  {
   "cell_type": "markdown",
   "id": "2f9aa091",
   "metadata": {},
   "source": [
    "## For Loops\n",
    "The `for` loop is perfect when you know eaxcly how many times you want to repeat something or when you want to go through a collection of items."
   ]
  },
  {
   "cell_type": "code",
   "execution_count": null,
   "id": "5f901e47",
   "metadata": {},
   "outputs": [],
   "source": [
    "#  Counting from 0 to 10\n",
    "\n",
    "for i in range(11):\n",
    "    print(i)"
   ]
  },
  {
   "cell_type": "markdown",
   "id": "0c06b550",
   "metadata": {},
   "source": [
    "The `range()` function creates a sequence of numbers.  `range(5)` gives you: 0,1,2,3,4. You can also use `range(1,6)` to get 1,2,3,4,5. Or, `range(0, 10, 2)` to count by twos: 0,2,4,6,8"
   ]
  },
  {
   "cell_type": "code",
   "execution_count": null,
   "id": "d2f96c91",
   "metadata": {},
   "outputs": [],
   "source": [
    "# Going through a list of names\n",
    "\n",
    "names = [\"Ben\", \"John\", \"Patrick\"] #Declare a variable called names, and assign a list of names to it\n",
    "for name in names: # For each name in the names list, do what follows:\n",
    "    print(name)"
   ]
  },
  {
   "cell_type": "code",
   "execution_count": null,
   "id": "f55b8ad0",
   "metadata": {},
   "outputs": [],
   "source": [
    "# When you are looping through a list, you can call the loop variable whatever you want. Same code as above, but using a different loop variable name.\n",
    "\n",
    "names = [\"Ben\", \"John\", \"Patrick\"]\n",
    "for eachPerson in names:\n",
    "    print(eachPerson)"
   ]
  },
  {
   "cell_type": "code",
   "execution_count": null,
   "id": "ec3a62c5",
   "metadata": {},
   "outputs": [],
   "source": [
    "# Going through each letter in a string\n",
    "for letter in \"Cybersecurity\":\n",
    "    print(letter)"
   ]
  },
  {
   "cell_type": "markdown",
   "id": "cc9ab586",
   "metadata": {},
   "source": [
    "## While loops\n",
    "The `while` loop keeps running as long as a condition is true.  It's useful when you don't know exactly how many times you will need to repeat something."
   ]
  },
  {
   "cell_type": "code",
   "execution_count": null,
   "id": "d8d64693",
   "metadata": {},
   "outputs": [],
   "source": [
    "# Keep asking for input until the user types \"quit\"\n",
    "user_input = \"\"\n",
    "while user_input != \"quit\":\n",
    "    user_input = input(\"Enter a command (or 'quit' to exit): \")\n",
    "    print(\"You entered:\", user_input)"
   ]
  },
  {
   "cell_type": "markdown",
   "id": "cd553337",
   "metadata": {},
   "source": [
    "**Be careful with while loops!** If the condition never becomes false, you'll create an infinite loop that runs forever."
   ]
  },
  {
   "cell_type": "markdown",
   "id": "cd9d326d",
   "metadata": {},
   "source": [
    "## Loop Control: `break` and `continue`\n",
    "Sometime you need to exit a loop early or skip certain iterations."
   ]
  },
  {
   "cell_type": "code",
   "execution_count": null,
   "id": "ecc07162",
   "metadata": {},
   "outputs": [],
   "source": [
    "# Break exits the loop completely\n",
    "\n",
    "for number in range(10):\n",
    "    if number == 5:\n",
    "        break\n",
    "    print(number)  # Prints 0, 1, 2, 3, 4\n",
    "\n",
    "# Continue skips to the next iteration\n",
    "\n",
    "for number in range(10):\n",
    "    if number % 2 == 0:  # Skip even numbers\n",
    "        continue\n",
    "    print(number)  # Prints 1, 3, 5, 7, 9"
   ]
  },
  {
   "cell_type": "markdown",
   "id": "b659d7d3",
   "metadata": {},
   "source": [
    "Notice that we have the conditional statement `if` nestled with a loop.  This allows us to check a condition on each iteration of the loop."
   ]
  },
  {
   "cell_type": "markdown",
   "id": "ce98d0d9",
   "metadata": {},
   "source": [
    "## Common Mistakes to Avoid\n",
    "- **Infinite loops:** Always make sure your while loop condition will eventually become false.\n",
    "\n",
    "- **Off-by-one errors:** Remember that range(5) goes from 0 to 4, not 1 to 5.\n",
    "\n",
    "- **Modifying a list while looping:** Don't add or remove items from a list while you're looping through it, as this can cause unexpected behavior.\n",
    "\n",
    "The key to mastering loops is practice. Start with simple examples and gradually work up to more complex situations. Loops are one of the most powerful tools in programming because they let you process large amounts of data efficiently."
   ]
  }
 ],
 "metadata": {
  "kernelspec": {
   "display_name": "base",
   "language": "python",
   "name": "python3"
  },
  "language_info": {
   "codemirror_mode": {
    "name": "ipython",
    "version": 3
   },
   "file_extension": ".py",
   "mimetype": "text/x-python",
   "name": "python",
   "nbconvert_exporter": "python",
   "pygments_lexer": "ipython3",
   "version": "3.12.7"
  }
 },
 "nbformat": 4,
 "nbformat_minor": 5
}
