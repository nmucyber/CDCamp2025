{
 "cells": [
  {
   "cell_type": "markdown",
   "id": "a1fb4474",
   "metadata": {},
   "source": [
    "# Data Types"
   ]
  },
  {
   "cell_type": "markdown",
   "id": "46c45bab",
   "metadata": {},
   "source": [
    "### **Integers (int)** - Whole numbers, positive or negative:"
   ]
  },
  {
   "cell_type": "code",
   "execution_count": null,
   "id": "bc468d6a",
   "metadata": {},
   "outputs": [],
   "source": [
    "age = 17\n",
    "temperature = -5\n",
    "year = 2025"
   ]
  },
  {
   "cell_type": "markdown",
   "id": "fb97fd8d",
   "metadata": {},
   "source": [
    "#### We can see what data type a variable is storing by using the `type()` function:"
   ]
  },
  {
   "cell_type": "code",
   "execution_count": null,
   "id": "55a49eb0",
   "metadata": {},
   "outputs": [],
   "source": [
    "print(\"The age varible is storing a\", type(age), \" data type.\")\n"
   ]
  },
  {
   "cell_type": "markdown",
   "id": "d72568b8",
   "metadata": {},
   "source": [
    "### **Floats (float)** - Numbers with decimal points:"
   ]
  },
  {
   "cell_type": "code",
   "execution_count": null,
   "id": "d02d107f",
   "metadata": {},
   "outputs": [],
   "source": [
    "height = 1.75\n",
    "price = 19.99\n",
    "pi = 3.14159\n",
    "print(\"The height varible is storing a\", type(height), \" data type.\")"
   ]
  },
  {
   "cell_type": "markdown",
   "id": "4195526d",
   "metadata": {},
   "source": [
    "### **Strings (str)** - Text always wrapped in quotes:"
   ]
  },
  {
   "cell_type": "code",
   "execution_count": null,
   "id": "1803046c",
   "metadata": {},
   "outputs": [],
   "source": [
    "name = \"Ben\"\n",
    "message = \"The quick brown fox jumps over the lazy dog.\"\n",
    "address = \"1401 Presque Isle Ave, Marquette, MI 49855\"\n",
    "print(\"The message varible is storing a\", type(message), \" data type.\")"
   ]
  },
  {
   "cell_type": "markdown",
   "id": "e1048877",
   "metadata": {},
   "source": [
    "### **Booleans (bool)** - True or False values:"
   ]
  },
  {
   "cell_type": "code",
   "execution_count": null,
   "id": "1f09dae3",
   "metadata": {},
   "outputs": [],
   "source": [
    "isRaining = True\n",
    "isSunny = False\n",
    "print (\"Rain status:\", isRaining)\n",
    "print (\"Sunny status:\", isSunny)\n",
    "print(\"The isRaining varible is storing a\", type(isRaining), \" data type.\")\n"
   ]
  },
  {
   "cell_type": "markdown",
   "id": "d9e8e2d8",
   "metadata": {},
   "source": [
    "## Advanced Data Types"
   ]
  },
  {
   "cell_type": "markdown",
   "id": "4c5da1d9",
   "metadata": {},
   "source": [
    "### **Lists** - Collections of items in order, using square brackets:"
   ]
  },
  {
   "cell_type": "code",
   "execution_count": null,
   "id": "2d88342e",
   "metadata": {},
   "outputs": [],
   "source": [
    "grades = [90, 85, 78, 92]\n",
    "fruits = [\"apple\", \"banana\", \"cherry\"]\n",
    "mixed_list = [1, \"hello\", 3.14, True]\n",
    "\n",
    "# Note, lists are ordered collections, and you can access elements by their index.\n",
    "# For example, to access the second grade in the list:\n",
    "# Lists always start indexing from 0, so the second element is at index 1.\n",
    "\n",
    "print(\"The second grade in the list is:\", grades[1])"
   ]
  },
  {
   "cell_type": "markdown",
   "id": "92cdc5c3",
   "metadata": {},
   "source": [
    "### **Dictionaries (dict)** - Collection of key-value pairs, like a phone book:"
   ]
  },
  {
   "cell_type": "code",
   "execution_count": null,
   "id": "b36cd6d0",
   "metadata": {},
   "outputs": [],
   "source": [
    "student = {\n",
    "    \"name\": \"Emma\",\n",
    "    \"age\": 16,\n",
    "    \"grade\": 11\n",
    "}\n",
    "\n",
    "print(\"The student's name is:\", student[\"name\"])\n"
   ]
  },
  {
   "cell_type": "markdown",
   "id": "b47775cc",
   "metadata": {},
   "source": [
    "#### Python is smart about figuring out data types automatically.  When you write `x = 5`, Python knows it an integer.  When you write `name = \"John'`, Python knows it's a string.\n",
    "\n",
    "#### Understanding data types helps you know what operations you can perform. You can add numbers together, but you can't subtract one word from another. Each type has its own special abilities!"
   ]
  },
  {
   "cell_type": "markdown",
   "id": "1072c1f6",
   "metadata": {},
   "source": []
  }
 ],
 "metadata": {
  "kernelspec": {
   "display_name": "base",
   "language": "python",
   "name": "python3"
  },
  "language_info": {
   "codemirror_mode": {
    "name": "ipython",
    "version": 3
   },
   "file_extension": ".py",
   "mimetype": "text/x-python",
   "name": "python",
   "nbconvert_exporter": "python",
   "pygments_lexer": "ipython3",
   "version": "3.12.7"
  }
 },
 "nbformat": 4,
 "nbformat_minor": 5
}
