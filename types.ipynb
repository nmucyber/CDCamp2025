{
 "cells": [
  {
   "cell_type": "markdown",
   "id": "a1fb4474",
   "metadata": {},
   "source": [
    "# Data Types"
   ]
  },
  {
   "cell_type": "markdown",
   "id": "46c45bab",
   "metadata": {},
   "source": [
    "### **Integers (int)** - Whole numbers, positive or negative"
   ]
  },
  {
   "cell_type": "code",
   "execution_count": 2,
   "id": "bc468d6a",
   "metadata": {},
   "outputs": [],
   "source": [
    "age = 17\n",
    "temperature = -5\n",
    "year = 2025"
   ]
  },
  {
   "cell_type": "markdown",
   "id": "fb97fd8d",
   "metadata": {},
   "source": [
    "#### We can see what data type a variable is storing by using the `type()` function"
   ]
  },
  {
   "cell_type": "code",
   "execution_count": 3,
   "id": "55a49eb0",
   "metadata": {},
   "outputs": [
    {
     "name": "stdout",
     "output_type": "stream",
     "text": [
      "The age varible is storing a: <class 'int'>\n"
     ]
    }
   ],
   "source": [
    "print(\"The age varible is storing a:\", type(age))"
   ]
  },
  {
   "cell_type": "markdown",
   "id": "d72568b8",
   "metadata": {},
   "source": [
    "### **Floats (int)** - Numbers with decimal points"
   ]
  }
 ],
 "metadata": {
  "kernelspec": {
   "display_name": "base",
   "language": "python",
   "name": "python3"
  },
  "language_info": {
   "codemirror_mode": {
    "name": "ipython",
    "version": 3
   },
   "file_extension": ".py",
   "mimetype": "text/x-python",
   "name": "python",
   "nbconvert_exporter": "python",
   "pygments_lexer": "ipython3",
   "version": "3.12.7"
  }
 },
 "nbformat": 4,
 "nbformat_minor": 5
}
