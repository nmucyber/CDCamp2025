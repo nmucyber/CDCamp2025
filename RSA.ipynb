{
 "cells": [
  {
   "cell_type": "markdown",
   "id": "a4027fa2",
   "metadata": {},
   "source": [
    "# Implementing the RSA Encryption Algorithm using Python"
   ]
  },
  {
   "cell_type": "markdown",
   "id": "863ffb11",
   "metadata": {},
   "source": [
    "This article explains what actually the RSA algorithm is in cryptography and shows how to implement the RSA algorithm for the encryption and decryption of data using Python. Here, data refers to numbers. You can also use string data for encryption and decryption using this algorithm. \n",
    "\n",
    "The RSA algorithm is a widely used method for encrypting and decrypting messages. It is named after its creators, **Ron Rivest, Adi Shamir, and Leonard Adleman**, who developed it in 1977. The RSA algorithm is based on the difficulty of factoring large numbers, and it is widely considered to be a secure method for encrypting data.\n",
    "\n",
    "To understand how the RSA algorithm works, we need to first understand the concept of public and private keys. In the RSA algorithm, each user has a pair of keys: a public key and a private key. The public key is made available to anyone who wants to send a message to the user, and it is used to encrypt the message. The private key is kept secret and is used to decrypt the message.\n",
    "\n",
    "Here’s an example of how the RSA algorithm works:\n",
    "\n",
    "- Let’s say Gwen wants to send a message to Peter. She looks up Peter’s public key and uses it to encrypt the message.\n",
    "\n",
    "- The encrypted message is sent to Peter.\n",
    "\n",
    "- Peter uses his private key to decrypt the message and read it.\n",
    "\n",
    "The security of the RSA algorithm is based on the fact that it is computationally infeasible to factorize a large composite number into its prime factors. In other words, given a number that is the product of two large prime numbers, it is very difficult to figure out what those prime numbers are. This is the basis of the RSA algorithm.\n",
    "\n",
    "Here’s how it works in more detail:\n",
    "\n",
    "- First, Gwen and Peter agree on two large prime numbers, `p`, and `q`.\n",
    "\n",
    "- They use these prime numbers to calculate a third number, `n`, which is the product of `p` and `q`. This number is made public.\n",
    "\n",
    "- They also calculate a fourth number, known as the “totient,” which is the number of positive integers less than n that are coprime to `n`. This number is also made public.\n",
    "\n",
    "- Gwen and Peter each generate a secret key, known as the “private key.” This key is a number that is less than the totient and is coprime to the totient.\n",
    "\n",
    "- They then use their private key to calculate their public key, which is a number that is relatively prime to the totient. This public key is made available to anyone who wants to send a message to the user.\n",
    "\n",
    "Once the keys have been generated, the RSA algorithm can be used to encrypt and decrypt messages. To encrypt a message, the sender uses the recipient’s public key to encrypt the message. To decrypt the message, the recipient uses their private key to decrypt it.\n",
    "\n",
    "The RSA algorithm has several advantages. It is relatively simple to implement, and it is widely used because it is considered to be a secure method of encrypting data. Additionally, the RSA algorithm is a “public key” algorithm, which means that the keys used for encryption and decryption are different. This makes it possible for users to communicate without having to exchange secret keys.\n",
    "\n",
    "In summary, the RSA algorithm is a widely used method for encrypting and decrypting messages. It is based on the difficulty of factoring large numbers, and it is considered to be a secure method for encrypting data. It has several advantages, including its simplicity and its use of public and private keys."
   ]
  },
  {
   "cell_type": "markdown",
   "id": "f21bddd3",
   "metadata": {},
   "source": [
    "## The whole RSA algorithm in simple words:\n",
    "\n",
    "1. Select `p`, `q` (`p` and `q` both prime and `p` not equal to `q`)\n",
    "\n",
    "2. Calculate `n = p * q`\n",
    "\n",
    "3. Calculate totient, `t = (p -1) * (q — 1)`\n",
    "\n",
    "4. Select `e` using `gcd(t) == 1` (gcd finds the greatest common divisor between two integers)\n",
    "\n",
    "5. Calculate `d` using `(d*e) % t == 1`\n",
    "\n",
    "6. Consider `e` as the **Public Key**, and `d` as the **Private Key**\n",
    "\n",
    "7. For encryption: `cipherText = (clearText ^ e) % n`\n",
    "\n",
    "8. For decryption: `clearText = (cipherText ^ d) % n`"
   ]
  },
  {
   "cell_type": "markdown",
   "id": "7bdb0728",
   "metadata": {},
   "source": [
    "### Now, let's get into the acutal implementation of the RSA algorithm using Python: "
   ]
  },
  {
   "cell_type": "markdown",
   "id": "82a37e18",
   "metadata": {},
   "source": [
    "#### First, we need two prime number for `p` and `q`.  We can generate that using this function:"
   ]
  },
  {
   "cell_type": "code",
   "execution_count": 1,
   "id": "4b85c52b",
   "metadata": {},
   "outputs": [
    {
     "name": "stdout",
     "output_type": "stream",
     "text": [
      "p is 7237\n",
      "q is 2503\n"
     ]
    }
   ],
   "source": [
    "import random\n",
    "import math\n",
    "\n",
    "def is_prime(n):\n",
    "    if n < 2:\n",
    "        return False\n",
    "    for i in range(2, int(math.sqrt(n)) + 1):\n",
    "        if n % i == 0:\n",
    "            return False\n",
    "    return True\n",
    "\n",
    "def generate_random_prime(min_val, max_val):\n",
    "    while True:\n",
    "        num = random.randint(min_val, max_val)\n",
    "        if is_prime(num):\n",
    "            return num\n",
    "        \n",
    "p = generate_random_prime(1000, 10000)\n",
    "q = generate_random_prime(1000, 10000)\n",
    "if p != q:\n",
    "    print(f\"p is {p}\")\n",
    "    print(f\"q is {q}\")\n"
   ]
  },
  {
   "cell_type": "code",
   "execution_count": 3,
   "id": "56bf11f7",
   "metadata": {},
   "outputs": [
    {
     "name": "stdout",
     "output_type": "stream",
     "text": [
      "The ASCII value of 'A' is: 65\n",
      "The encrypted message is: 981121\n",
      "The decrypted message is: 65\n"
     ]
    }
   ],
   "source": [
    "from math import gcd\n",
    "\n",
    "# Defining the RSA function\n",
    "def RSA(p: int, q: int, message: int):\n",
    "\n",
    "    # Calculate n\n",
    "    n = p * q\n",
    "\n",
    "    # Calculate Euler's totient function\n",
    "    t = (p - 1) * (q - 1)\n",
    "\n",
    "    # Selecting the public key, e\n",
    "    for i in range (2, t):\n",
    "        if gcd(i, t) == 1:\n",
    "            e = i\n",
    "            break\n",
    "\n",
    "    # Selecting the private key, d\n",
    "    j = 0\n",
    "    while True:\n",
    "        if (j * e) % t == 1:\n",
    "            d = j\n",
    "            break\n",
    "        j += 1\n",
    "\n",
    "    # Encrypting the message\n",
    "    ciphertText = (message ** e) % n\n",
    "    print(f\"The encrypted message is: {ciphertText}\")\n",
    "\n",
    "    # Decrypting the message\n",
    "    clearText = (ciphertText ** d) % n\n",
    "    print(f\"The decrypted message is: {clearText}\")\n",
    "\n",
    "character = 'A'\n",
    "message_ascii = ord(character)  # Convert character to ASCII value\n",
    "print(f\"The ASCII value of '{character}' is: {message_ascii}\")\n",
    "RSA(p=7237, q=2503, message=65)  # Example with ASCII value of 'A'\n"
   ]
  }
 ],
 "metadata": {
  "kernelspec": {
   "display_name": "base",
   "language": "python",
   "name": "python3"
  },
  "language_info": {
   "codemirror_mode": {
    "name": "ipython",
    "version": 3
   },
   "file_extension": ".py",
   "mimetype": "text/x-python",
   "name": "python",
   "nbconvert_exporter": "python",
   "pygments_lexer": "ipython3",
   "version": "3.12.7"
  }
 },
 "nbformat": 4,
 "nbformat_minor": 5
}
