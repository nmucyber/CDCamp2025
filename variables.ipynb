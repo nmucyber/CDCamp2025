{
 "cells": [
  {
   "cell_type": "markdown",
   "id": "c79c33b0",
   "metadata": {},
   "source": [
    "# Variables"
   ]
  },
  {
   "cell_type": "markdown",
   "id": "12e521bb",
   "metadata": {},
   "source": [
    "### You can store different types of information in variables:"
   ]
  },
  {
   "cell_type": "code",
   "execution_count": null,
   "id": "2df5f23b",
   "metadata": {},
   "outputs": [],
   "source": [
    "age = 16            # A number (integer)\n",
    "height = 5.8        # A decimal number (float)\n",
    "weight = 150.5      # A decimal number (float)\n",
    "name = \"Adam\"       # A string (text)\n",
    "isStudent = True    # A boolean (True/False)"
   ]
  },
  {
   "cell_type": "markdown",
   "id": "2a29c2f6",
   "metadata": {},
   "source": [
    "### Calling the variables, and priting using f-string formatting"
   ]
  },
  {
   "cell_type": "code",
   "execution_count": null,
   "id": "8a5fd5a3",
   "metadata": {},
   "outputs": [],
   "source": [
    "print(f\"Name: {name}, Age: {age}, Height: {height}, Weight: {weight}, Is Student: {isStudent}\")"
   ]
  },
  {
   "cell_type": "markdown",
   "id": "edcff17c",
   "metadata": {},
   "source": [
    "### Once a variable is created it can be changed.\n",
    "One year later"
   ]
  },
  {
   "cell_type": "code",
   "execution_count": null,
   "id": "6ad7495d",
   "metadata": {},
   "outputs": [],
   "source": [
    "age  = age + 1\n",
    "print(f\"One year later, Age: {age}\")"
   ]
  },
  {
   "cell_type": "markdown",
   "id": "7eadb741",
   "metadata": {},
   "source": [
    "### You can also print variables this way:"
   ]
  },
  {
   "cell_type": "code",
   "execution_count": null,
   "id": "9357c3df",
   "metadata": {},
   "outputs": [],
   "source": [
    "print(\"name:\", name, \"age:\", age, \"height:\", height, \"weight:\", weight, \"Is Student:\", isStudent)"
   ]
  },
  {
   "cell_type": "markdown",
   "id": "5007745a",
   "metadata": {},
   "source": [
    "### You can also use vairables in calculations and combine them"
   ]
  },
  {
   "cell_type": "code",
   "execution_count": null,
   "id": "f6e7a7c8",
   "metadata": {},
   "outputs": [],
   "source": [
    "firstName = \"Adam\"\n",
    "lastName = \"Smith\"\n",
    "fullname = firstName + \" \" + lastName  # Concatenate strings\n",
    "print(\"Full name:\", fullname)"
   ]
  }
 ],
 "metadata": {
  "kernelspec": {
   "display_name": "base",
   "language": "python",
   "name": "python3"
  },
  "language_info": {
   "codemirror_mode": {
    "name": "ipython",
    "version": 3
   },
   "file_extension": ".py",
   "mimetype": "text/x-python",
   "name": "python",
   "nbconvert_exporter": "python",
   "pygments_lexer": "ipython3",
   "version": "3.12.7"
  }
 },
 "nbformat": 4,
 "nbformat_minor": 5
}
