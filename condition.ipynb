{
 "cells": [
  {
   "cell_type": "markdown",
   "id": "29e65c6e",
   "metadata": {},
   "source": [
    "# Conditional Statements\n",
    "##### In Python we use `if`, `elif`, and `else` to create these decision points."
   ]
  },
  {
   "cell_type": "markdown",
   "id": "e64a90e3",
   "metadata": {},
   "source": [
    "## The Basic If Statement\n",
    "The simplest conditional statement is `if`. It means only do this if soomething is true:"
   ]
  },
  {
   "cell_type": "code",
   "execution_count": 1,
   "id": "025ab7bc",
   "metadata": {},
   "outputs": [
    {
     "name": "stdout",
     "output_type": "stream",
     "text": [
      "You can drive!\n"
     ]
    }
   ],
   "source": [
    "age = 16\n",
    "if age >= 16:\n",
    "    print(\"You can drive!\")\n"
   ]
  },
  {
   "cell_type": "markdown",
   "id": "6a004609",
   "metadata": {},
   "source": [
    "**Notice the structure:**\n",
    "- `if` followed by a condition\n",
    "- A colon `:` at the end\n",
    "- The code that runs if the condition is met is **indented** (pushed to the right)"
   ]
  },
  {
   "cell_type": "markdown",
   "id": "ebd5d38c",
   "metadata": {},
   "source": [
    "**When typing your own code, Python will automatically indent the next line after the `:` and hitting [ENTER]**\n",
    "**Try for yourself below:**"
   ]
  },
  {
   "cell_type": "code",
   "execution_count": null,
   "id": "5cd94a49",
   "metadata": {},
   "outputs": [],
   "source": [
    "age = 16 # Complete the code below to check if the person can drive"
   ]
  },
  {
   "cell_type": "markdown",
   "id": "e0602e94",
   "metadata": {},
   "source": [
    "## if-else Statement\n",
    "Often you want to do one thing if something is true, and something different if it is false:"
   ]
  },
  {
   "cell_type": "code",
   "execution_count": null,
   "id": "99c768dd",
   "metadata": {},
   "outputs": [],
   "source": [
    "age = int(input(\"How old are you? \"))\n",
    "if age >= 18:\n",
    "    print(\"You can vote!\")\n",
    "else:\n",
    "    print(\"You can't vote yet.\")"
   ]
  }
 ],
 "metadata": {
  "kernelspec": {
   "display_name": "base",
   "language": "python",
   "name": "python3"
  },
  "language_info": {
   "codemirror_mode": {
    "name": "ipython",
    "version": 3
   },
   "file_extension": ".py",
   "mimetype": "text/x-python",
   "name": "python",
   "nbconvert_exporter": "python",
   "pygments_lexer": "ipython3",
   "version": "3.12.7"
  }
 },
 "nbformat": 4,
 "nbformat_minor": 5
}
