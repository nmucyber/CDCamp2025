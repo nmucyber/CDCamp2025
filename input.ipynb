{
 "cells": [
  {
   "cell_type": "markdown",
   "id": "42497a79",
   "metadata": {},
   "source": [
    "# User Input"
   ]
  },
  {
   "cell_type": "code",
   "execution_count": null,
   "id": "9957d6b7",
   "metadata": {},
   "outputs": [],
   "source": [
    "name = input(\"Hello, what's your name?\")\n",
    "print(\"Nice to meet you, \" + name + \"!\")\n",
    "\n",
    "# When you execute this code block, VSCode will prompt you to enter your name at the top of the screen."
   ]
  },
  {
   "cell_type": "markdown",
   "id": "1222f57b",
   "metadata": {},
   "source": [
    "## Converting Inputs to Numbers\n",
    "### To fix this, you need to convert the text to a number using the `int()` or `float()` functions"
   ]
  },
  {
   "cell_type": "markdown",
   "id": "f47701cd",
   "metadata": {},
   "source": [
    "#### For whole numbers, use `int()`:"
   ]
  },
  {
   "cell_type": "code",
   "execution_count": null,
   "id": "ee0da3e3",
   "metadata": {},
   "outputs": [],
   "source": [
    "age = input(\"How old are you? \")\n",
    "age = int(age)  # Convert text to integer\n",
    "next_year = age + 1\n",
    "print(\"Next year you'll be\", next_year)"
   ]
  },
  {
   "cell_type": "markdown",
   "id": "62da2f4e",
   "metadata": {},
   "source": [
    "#### For  numbers with decimals, use `float()`:"
   ]
  },
  {
   "cell_type": "code",
   "execution_count": null,
   "id": "fd63fe26",
   "metadata": {},
   "outputs": [],
   "source": [
    "pi = 3.14159\n",
    "radius = input(\"Enter the radius of the circle in inches \") # Enter \"2.75\"\n",
    "radius = float(radius)  # Convert text to float\n",
    "area = pi * (radius ** 2)\n",
    "print(\"The area of the circle is:\", area) "
   ]
  },
  {
   "cell_type": "code",
   "execution_count": null,
   "id": "504057b9",
   "metadata": {},
   "outputs": [],
   "source": [
    "#### You can combine input and conversion in one line:\n",
    "radius = float(input(\"Enter the radius of the circle in inches \"))  # Enter \"2.75\"\n",
    "print(\"The variable radius, has a data type of:\", type(radius))"
   ]
  },
  {
   "cell_type": "markdown",
   "id": "4b35d951",
   "metadata": {},
   "source": [
    "### Multiple Inputs\n",
    "You can ask for several pieces of information:\n"
   ]
  },
  {
   "cell_type": "code",
   "execution_count": null,
   "id": "f7194167",
   "metadata": {},
   "outputs": [],
   "source": [
    "print(\"Tell me about yourself:\")\n",
    "name = input(\"Name: \")\n",
    "age = int(input(\"Age: \"))\n",
    "favorite_color = input(\"Favorite color: \")\n",
    "height = float(input(\"Height in feet: \"))\n",
    "\n",
    "print(f\"Hi {name}! You're {age} years old, love {favorite_color}, and are {height} feet tall.\")"
   ]
  }
 ],
 "metadata": {
  "kernelspec": {
   "display_name": "base",
   "language": "python",
   "name": "python3"
  },
  "language_info": {
   "codemirror_mode": {
    "name": "ipython",
    "version": 3
   },
   "file_extension": ".py",
   "mimetype": "text/x-python",
   "name": "python",
   "nbconvert_exporter": "python",
   "pygments_lexer": "ipython3",
   "version": "3.12.7"
  }
 },
 "nbformat": 4,
 "nbformat_minor": 5
}
